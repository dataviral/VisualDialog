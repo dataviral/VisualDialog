{
 "cells": [
  {
   "cell_type": "code",
   "execution_count": 119,
   "metadata": {
    "collapsed": true
   },
   "outputs": [],
   "source": [
    "import pandas as pd\n",
    "import numpy as np\n",
    "import contractions\n",
    "import re\n",
    "from collections import defaultdict\n",
    "import joblib"
   ]
  },
  {
   "cell_type": "code",
   "execution_count": 120,
   "metadata": {
    "collapsed": true
   },
   "outputs": [],
   "source": [
    "csv_paths = [\n",
    "    \"../batches/Batch_284001_batch_results.csv\",\n",
    "    \"../batches/Batch_284002_batch_results.csv\",\n",
    "    \"../batches/Batch_284003_batch_results.csv\",\n",
    "    \"../batches/Batch_284004_batch_results.csv\"\n",
    "]"
   ]
  },
  {
   "cell_type": "code",
   "execution_count": 121,
   "metadata": {},
   "outputs": [],
   "source": [
    "def parse_df(df, mappings):\n",
    "    parsed_data = {\n",
    "        \"image_name\": [],\n",
    "        \"description\": [],\n",
    "        \"question\": [],\n",
    "        \"answer\": [],\n",
    "        \"bounding_box\": []\n",
    "    }\n",
    "    \n",
    "    def fix_text(sentence):\n",
    "        sentence = re.findall(r\"[\\w']+|[.,!?;]\", contractions.fix(sentence.lower()))\n",
    "        add2mapping(sentence)\n",
    "        sentence = [\"<sos>\"] + sentence + [\"<eos>\"]\n",
    "        return \" \".join(sentence)\n",
    "    \n",
    "    def add2mapping(sentence):\n",
    "        for word in sentence:\n",
    "            if word not in mappings[\"w2i\"]:\n",
    "                idx = len(mappings[\"w2i\"])\n",
    "                mappings[\"w2i\"][word] = idx\n",
    "                mappings[\"i2w\"][idx] = word\n",
    "    \n",
    "    for i in range(len(df)):\n",
    "        # Extract entry\n",
    "        row = df.iloc[i]\n",
    "        \n",
    "        # do not add if description is empty\n",
    "        if pd.isna(row['Answer.Descriptive_description']):\n",
    "            continue\n",
    "        \n",
    "        # Add entries to the dict\n",
    "        parsed_data[\"image_name\"].append(row['Input.image_url'])\n",
    "        parsed_data[\"description\"].append(fix_text(row['Answer.Descriptive_description']))\n",
    "        parsed_data[\"bounding_box\"].append(row['Answer.annotated_images.boundingBoxes'])\n",
    "        parsed_data[\"question\"].append([])\n",
    "        parsed_data[\"answer\"].append([])\n",
    "        questions = []\n",
    "        answers = []\n",
    "        for qno in range(1, 9):\n",
    "            question_column = \"Answer.Question {}\".format(qno)\n",
    "            answer_column = \"Answer.Answer {}\".format(qno)\n",
    "            \n",
    "            if pd.isna(df.iloc[i][question_column]) or pd.isna(df.iloc[i][answer_column]):\n",
    "                continue\n",
    "\n",
    "            parsed_data[\"question\"][-1].append(fix_text(row[question_column])) # Add question\n",
    "            parsed_data[\"answer\"][-1].append(fix_text(row[answer_column])) # Add answer\n",
    "        parsed_data[\"question\"][-1].append(fix_text(\"Describe the scene\"))\n",
    "        parsed_data[\"answer\"][-1].append(parsed_data[\"description\"][-1])\n",
    "    return parsed_data"
   ]
  },
  {
   "cell_type": "code",
   "execution_count": 122,
   "metadata": {
    "collapsed": true
   },
   "outputs": [],
   "source": [
    "def merge_batches(paths):\n",
    "    parsed_data_frames = []\n",
    "\n",
    "    mappings = {\n",
    "        \"i2w\": dict(),\n",
    "        \"w2i\": dict()\n",
    "    }\n",
    "    mappings[\"i2w\"][0], mappings[\"w2i\"][\"<pad>\"] = \"<pad>\", 0\n",
    "    mappings[\"i2w\"][1], mappings[\"w2i\"][\"<unk>\"] = \"<unk>\", 1\n",
    "    mappings[\"i2w\"][2], mappings[\"w2i\"][\"<sos>\"] = \"<sos>\", 2\n",
    "    mappings[\"i2w\"][3], mappings[\"w2i\"][\"<eos>\"] = \"<eos>\", 3\n",
    "    \n",
    "    for csv_path in paths:\n",
    "        df = pd.read_csv(csv_path)\n",
    "        parsed_dict = parse_df(df, mappings)\n",
    "        parsed_df = pd.DataFrame.from_dict(parsed_dict)\n",
    "        parsed_data_frames.append(parsed_df)\n",
    "    return pd.concat(parsed_data_frames, ignore_index=True), mappings"
   ]
  },
  {
   "cell_type": "code",
   "execution_count": 123,
   "metadata": {},
   "outputs": [],
   "source": [
    "final_df, mappings = merge_batches(csv_paths)"
   ]
  },
  {
   "cell_type": "code",
   "execution_count": 124,
   "metadata": {},
   "outputs": [
    {
     "data": {
      "text/html": [
       "<div>\n",
       "<style scoped>\n",
       "    .dataframe tbody tr th:only-of-type {\n",
       "        vertical-align: middle;\n",
       "    }\n",
       "\n",
       "    .dataframe tbody tr th {\n",
       "        vertical-align: top;\n",
       "    }\n",
       "\n",
       "    .dataframe thead th {\n",
       "        text-align: right;\n",
       "    }\n",
       "</style>\n",
       "<table border=\"1\" class=\"dataframe\">\n",
       "  <thead>\n",
       "    <tr style=\"text-align: right;\">\n",
       "      <th></th>\n",
       "      <th>image_name</th>\n",
       "      <th>description</th>\n",
       "      <th>question</th>\n",
       "      <th>answer</th>\n",
       "      <th>bounding_box</th>\n",
       "    </tr>\n",
       "  </thead>\n",
       "  <tbody>\n",
       "    <tr>\n",
       "      <th>0</th>\n",
       "      <td>map_2_inside_env_001806.png</td>\n",
       "      <td>&lt;sos&gt; there is a partial view of the room from...</td>\n",
       "      <td>[&lt;sos&gt; what is present in the room ? &lt;eos&gt;, &lt;s...</td>\n",
       "      <td>[&lt;sos&gt; there is nothing present in the room , ...</td>\n",
       "      <td>[{\"height\":422,\"label\":\"Door\",\"left\":251,\"top\"...</td>\n",
       "    </tr>\n",
       "    <tr>\n",
       "      <th>1</th>\n",
       "      <td>map_2_inside_env_001063.png</td>\n",
       "      <td>&lt;sos&gt; room with furniture and a victim &lt;eos&gt;</td>\n",
       "      <td>[&lt;sos&gt; is there a painting &lt;eos&gt;, &lt;sos&gt; does t...</td>\n",
       "      <td>[&lt;sos&gt; yes there is a painting on the wall &lt;eo...</td>\n",
       "      <td>[{\"height\":63,\"label\":\"Painting\",\"left\":396,\"t...</td>\n",
       "    </tr>\n",
       "    <tr>\n",
       "      <th>2</th>\n",
       "      <td>map_1_inside_env_004857.png</td>\n",
       "      <td>&lt;sos&gt; there is a corridor with a door and a fe...</td>\n",
       "      <td>[&lt;sos&gt; is the door open ? &lt;eos&gt;, &lt;sos&gt; how man...</td>\n",
       "      <td>[&lt;sos&gt; yes , the door is open . &lt;eos&gt;, &lt;sos&gt; t...</td>\n",
       "      <td>[{\"height\":315,\"label\":\"Door\",\"left\":400,\"top\"...</td>\n",
       "    </tr>\n",
       "    <tr>\n",
       "      <th>3</th>\n",
       "      <td>map_2_inside_env_002306.png</td>\n",
       "      <td>&lt;sos&gt; a door in a corridor . &lt;eos&gt;</td>\n",
       "      <td>[&lt;sos&gt; is there fire in the corridor ? &lt;eos&gt;, ...</td>\n",
       "      <td>[&lt;sos&gt; no , there is no fire in the corridor ....</td>\n",
       "      <td>[{\"height\":142,\"label\":\"Door\",\"left\":213,\"top\"...</td>\n",
       "    </tr>\n",
       "    <tr>\n",
       "      <th>4</th>\n",
       "      <td>map_1_inside_env_002893.png</td>\n",
       "      <td>&lt;sos&gt; room with a bookshelf and a yellow victi...</td>\n",
       "      <td>[&lt;sos&gt; is there a door &lt;eos&gt;, &lt;sos&gt; can a leve...</td>\n",
       "      <td>[&lt;sos&gt; no door visible &lt;eos&gt;, &lt;sos&gt; no lever c...</td>\n",
       "      <td>[{\"height\":274,\"label\":\"Bookshelf\",\"left\":0,\"t...</td>\n",
       "    </tr>\n",
       "  </tbody>\n",
       "</table>\n",
       "</div>"
      ],
      "text/plain": [
       "                    image_name  \\\n",
       "0  map_2_inside_env_001806.png   \n",
       "1  map_2_inside_env_001063.png   \n",
       "2  map_1_inside_env_004857.png   \n",
       "3  map_2_inside_env_002306.png   \n",
       "4  map_1_inside_env_002893.png   \n",
       "\n",
       "                                         description  \\\n",
       "0  <sos> there is a partial view of the room from...   \n",
       "1       <sos> room with furniture and a victim <eos>   \n",
       "2  <sos> there is a corridor with a door and a fe...   \n",
       "3                 <sos> a door in a corridor . <eos>   \n",
       "4  <sos> room with a bookshelf and a yellow victi...   \n",
       "\n",
       "                                            question  \\\n",
       "0  [<sos> what is present in the room ? <eos>, <s...   \n",
       "1  [<sos> is there a painting <eos>, <sos> does t...   \n",
       "2  [<sos> is the door open ? <eos>, <sos> how man...   \n",
       "3  [<sos> is there fire in the corridor ? <eos>, ...   \n",
       "4  [<sos> is there a door <eos>, <sos> can a leve...   \n",
       "\n",
       "                                              answer  \\\n",
       "0  [<sos> there is nothing present in the room , ...   \n",
       "1  [<sos> yes there is a painting on the wall <eo...   \n",
       "2  [<sos> yes , the door is open . <eos>, <sos> t...   \n",
       "3  [<sos> no , there is no fire in the corridor ....   \n",
       "4  [<sos> no door visible <eos>, <sos> no lever c...   \n",
       "\n",
       "                                        bounding_box  \n",
       "0  [{\"height\":422,\"label\":\"Door\",\"left\":251,\"top\"...  \n",
       "1  [{\"height\":63,\"label\":\"Painting\",\"left\":396,\"t...  \n",
       "2  [{\"height\":315,\"label\":\"Door\",\"left\":400,\"top\"...  \n",
       "3  [{\"height\":142,\"label\":\"Door\",\"left\":213,\"top\"...  \n",
       "4  [{\"height\":274,\"label\":\"Bookshelf\",\"left\":0,\"t...  "
      ]
     },
     "execution_count": 124,
     "metadata": {},
     "output_type": "execute_result"
    }
   ],
   "source": [
    "final_df.head()"
   ]
  },
  {
   "cell_type": "code",
   "execution_count": 125,
   "metadata": {
    "collapsed": true
   },
   "outputs": [],
   "source": [
    "final_df.to_csv(\"../batches/combined.csv\")"
   ]
  },
  {
   "cell_type": "code",
   "execution_count": 126,
   "metadata": {},
   "outputs": [
    {
     "data": {
      "text/plain": [
       "['../batches/malmo.data']"
      ]
     },
     "execution_count": 126,
     "metadata": {},
     "output_type": "execute_result"
    }
   ],
   "source": [
    "joblib.dump({\"df\": final_df, \"mappings\": mappings}, \"../batches/malmo.data\")"
   ]
  },
  {
   "cell_type": "code",
   "execution_count": null,
   "metadata": {
    "collapsed": true
   },
   "outputs": [],
   "source": []
  }
 ],
 "metadata": {
  "kernelspec": {
   "display_name": "Python [FNC]",
   "language": "python",
   "name": "Python [FNC]"
  },
  "language_info": {
   "codemirror_mode": {
    "name": "ipython",
    "version": 3
   },
   "file_extension": ".py",
   "mimetype": "text/x-python",
   "name": "python",
   "nbconvert_exporter": "python",
   "pygments_lexer": "ipython3",
   "version": "3.6.9"
  }
 },
 "nbformat": 4,
 "nbformat_minor": 2
}
