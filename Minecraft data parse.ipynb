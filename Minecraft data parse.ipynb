{
 "cells": [
  {
   "cell_type": "code",
   "execution_count": 2,
   "metadata": {
    "collapsed": true
   },
   "outputs": [],
   "source": [
    "import pandas as pd\n",
    "import numpy as np"
   ]
  },
  {
   "cell_type": "code",
   "execution_count": 36,
   "metadata": {
    "collapsed": true
   },
   "outputs": [],
   "source": [
    "csv_paths = [\n",
    "    \"../batches/Batch_284001_batch_results.csv\",\n",
    "    \"../batches/Batch_284002_batch_results.csv\",\n",
    "    \"../batches/Batch_284003_batch_results.csv\",\n",
    "    \"../batches/Batch_284004_batch_results.csv\"\n",
    "]"
   ]
  },
  {
   "cell_type": "code",
   "execution_count": null,
   "metadata": {
    "collapsed": true
   },
   "outputs": [],
   "source": [
    "def parse_df(df):\n",
    "    parsed_data = {\n",
    "        \"image_names\": [],\n",
    "        \"descriptions\": [],\n",
    "        \"questions\": [],\n",
    "        \"answers\": [],\n",
    "        \"bounding_boxes\": []\n",
    "    }\n",
    "    \n",
    "    for i in range(len(df)):\n",
    "        # Extract entry\n",
    "        row = df.iloc[i]\n",
    "        \n",
    "        # do not add if description is empty\n",
    "        if pd.isna(row['Answer.Descriptive_description']):\n",
    "            continue\n",
    "        \n",
    "        # Add entries to the dict\n",
    "        parsed_data[\"image_names\"].append(row['Input.image_url'])\n",
    "        parsed_data[\"descriptions\"].append(row['Answer.Descriptive_description'])\n",
    "        parsed_data[\"bounding_boxes\"].append(row['Answer.annotated_images.boundingBoxes'])\n",
    "        parsed_data[\"questions\"].append([])\n",
    "        parsed_data[\"answers\"].append([])\n",
    "        questions = []\n",
    "        answers = []\n",
    "        for qno in range(1, 9):\n",
    "            question_column = \"Answer.Question {}\".format(qno)\n",
    "            \n",
    "            if pd.isna(df.iloc[0][question_column]):\n",
    "                continue\n",
    "            \n",
    "            answer_column = \"Answer.Answer {}\".format(qno)\n",
    "            parsed_data[\"questions\"][-1].append(row[question_column]) # Add question\n",
    "            parsed_data[\"answers\"][-1].append(row[answer_column]) # Add answer\n",
    "    return parsed_data"
   ]
  },
  {
   "cell_type": "code",
   "execution_count": 44,
   "metadata": {
    "collapsed": true
   },
   "outputs": [],
   "source": [
    "def merge_batches(paths):\n",
    "    parsed_data_frames = []\n",
    "    for csv_path in paths:\n",
    "        df = pd.read_csv(csv_path)\n",
    "        parsed_dict = parse_df(df)\n",
    "        parsed_df = pd.DataFrame.from_dict(parsed_dict)\n",
    "        parsed_data_frames.append(parsed_df)\n",
    "    return pd.concat(parsed_data_frames, ignore_index=True)"
   ]
  },
  {
   "cell_type": "code",
   "execution_count": 45,
   "metadata": {
    "collapsed": true
   },
   "outputs": [],
   "source": [
    "final_df = merge_batches(csv_paths)"
   ]
  },
  {
   "cell_type": "code",
   "execution_count": 49,
   "metadata": {},
   "outputs": [
    {
     "data": {
      "text/html": [
       "<div>\n",
       "<style scoped>\n",
       "    .dataframe tbody tr th:only-of-type {\n",
       "        vertical-align: middle;\n",
       "    }\n",
       "\n",
       "    .dataframe tbody tr th {\n",
       "        vertical-align: top;\n",
       "    }\n",
       "\n",
       "    .dataframe thead th {\n",
       "        text-align: right;\n",
       "    }\n",
       "</style>\n",
       "<table border=\"1\" class=\"dataframe\">\n",
       "  <thead>\n",
       "    <tr style=\"text-align: right;\">\n",
       "      <th></th>\n",
       "      <th>image_names</th>\n",
       "      <th>descriptions</th>\n",
       "      <th>questions</th>\n",
       "      <th>answers</th>\n",
       "      <th>bounding_boxes</th>\n",
       "    </tr>\n",
       "  </thead>\n",
       "  <tbody>\n",
       "    <tr>\n",
       "      <th>0</th>\n",
       "      <td>map_2_inside_env_001806.png</td>\n",
       "      <td>There is a partial view of the room from a door</td>\n",
       "      <td>[What is present in the room?, Is there any vi...</td>\n",
       "      <td>[There is nothing present in the room,, There ...</td>\n",
       "      <td>[{\"height\":422,\"label\":\"Door\",\"left\":251,\"top\"...</td>\n",
       "    </tr>\n",
       "    <tr>\n",
       "      <th>1</th>\n",
       "      <td>map_2_inside_env_001063.png</td>\n",
       "      <td>Room with furniture and a victim</td>\n",
       "      <td>[Is there a painting, Does the room have any f...</td>\n",
       "      <td>[Yes there is a painting on the wall, Yes it d...</td>\n",
       "      <td>[{\"height\":63,\"label\":\"Painting\",\"left\":396,\"t...</td>\n",
       "    </tr>\n",
       "    <tr>\n",
       "      <th>2</th>\n",
       "      <td>map_1_inside_env_004857.png</td>\n",
       "      <td>There is a corridor with a door and a few wind...</td>\n",
       "      <td>[Is the door open?, How many windows are there...</td>\n",
       "      <td>[Yes, the door is open., There are four window...</td>\n",
       "      <td>[{\"height\":315,\"label\":\"Door\",\"left\":400,\"top\"...</td>\n",
       "    </tr>\n",
       "    <tr>\n",
       "      <th>3</th>\n",
       "      <td>map_2_inside_env_002306.png</td>\n",
       "      <td>A door in a corridor.</td>\n",
       "      <td>[Is there fire in the corridor?, Is the door c...</td>\n",
       "      <td>[No, there is no fire in the corridor., Yes, t...</td>\n",
       "      <td>[{\"height\":142,\"label\":\"Door\",\"left\":213,\"top\"...</td>\n",
       "    </tr>\n",
       "    <tr>\n",
       "      <th>4</th>\n",
       "      <td>map_1_inside_env_002893.png</td>\n",
       "      <td>Room with a bookshelf and a yellow victim</td>\n",
       "      <td>[Is there a door, Can a lever be seen, Is ther...</td>\n",
       "      <td>[No door visible, No lever can be seen, No tor...</td>\n",
       "      <td>[{\"height\":274,\"label\":\"Bookshelf\",\"left\":0,\"t...</td>\n",
       "    </tr>\n",
       "  </tbody>\n",
       "</table>\n",
       "</div>"
      ],
      "text/plain": [
       "                   image_names  \\\n",
       "0  map_2_inside_env_001806.png   \n",
       "1  map_2_inside_env_001063.png   \n",
       "2  map_1_inside_env_004857.png   \n",
       "3  map_2_inside_env_002306.png   \n",
       "4  map_1_inside_env_002893.png   \n",
       "\n",
       "                                        descriptions  \\\n",
       "0    There is a partial view of the room from a door   \n",
       "1                   Room with furniture and a victim   \n",
       "2  There is a corridor with a door and a few wind...   \n",
       "3                              A door in a corridor.   \n",
       "4          Room with a bookshelf and a yellow victim   \n",
       "\n",
       "                                           questions  \\\n",
       "0  [What is present in the room?, Is there any vi...   \n",
       "1  [Is there a painting, Does the room have any f...   \n",
       "2  [Is the door open?, How many windows are there...   \n",
       "3  [Is there fire in the corridor?, Is the door c...   \n",
       "4  [Is there a door, Can a lever be seen, Is ther...   \n",
       "\n",
       "                                             answers  \\\n",
       "0  [There is nothing present in the room,, There ...   \n",
       "1  [Yes there is a painting on the wall, Yes it d...   \n",
       "2  [Yes, the door is open., There are four window...   \n",
       "3  [No, there is no fire in the corridor., Yes, t...   \n",
       "4  [No door visible, No lever can be seen, No tor...   \n",
       "\n",
       "                                      bounding_boxes  \n",
       "0  [{\"height\":422,\"label\":\"Door\",\"left\":251,\"top\"...  \n",
       "1  [{\"height\":63,\"label\":\"Painting\",\"left\":396,\"t...  \n",
       "2  [{\"height\":315,\"label\":\"Door\",\"left\":400,\"top\"...  \n",
       "3  [{\"height\":142,\"label\":\"Door\",\"left\":213,\"top\"...  \n",
       "4  [{\"height\":274,\"label\":\"Bookshelf\",\"left\":0,\"t...  "
      ]
     },
     "execution_count": 49,
     "metadata": {},
     "output_type": "execute_result"
    }
   ],
   "source": [
    "final_df.head()"
   ]
  },
  {
   "cell_type": "code",
   "execution_count": 50,
   "metadata": {
    "collapsed": true
   },
   "outputs": [],
   "source": [
    "final_df.to_csv(\"../batches/combined.csv\")"
   ]
  },
  {
   "cell_type": "code",
   "execution_count": null,
   "metadata": {
    "collapsed": true
   },
   "outputs": [],
   "source": []
  }
 ],
 "metadata": {
  "kernelspec": {
   "display_name": "Python [FNC]",
   "language": "python",
   "name": "Python [FNC]"
  },
  "language_info": {
   "codemirror_mode": {
    "name": "ipython",
    "version": 3
   },
   "file_extension": ".py",
   "mimetype": "text/x-python",
   "name": "python",
   "nbconvert_exporter": "python",
   "pygments_lexer": "ipython3",
   "version": "3.6.9"
  }
 },
 "nbformat": 4,
 "nbformat_minor": 2
}
