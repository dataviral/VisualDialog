{
 "cells": [
  {
   "cell_type": "code",
   "execution_count": 3,
   "metadata": {
    "collapsed": true
   },
   "outputs": [],
   "source": [
    "import torch\n",
    "import pandas as pd"
   ]
  },
  {
   "cell_type": "code",
   "execution_count": 4,
   "metadata": {
    "collapsed": true
   },
   "outputs": [],
   "source": [
    "csv_path = \"../batches/combined.csv\"\n",
    "img_path = \"/mnt/Xtension/CMU/visdial/visdial_malmo_data/\""
   ]
  },
  {
   "cell_type": "code",
   "execution_count": 5,
   "metadata": {},
   "outputs": [],
   "source": [
    "df = pd.read_csv(csv_path)"
   ]
  },
  {
   "cell_type": "code",
   "execution_count": 6,
   "metadata": {},
   "outputs": [
    {
     "data": {
      "text/html": [
       "<div>\n",
       "<style scoped>\n",
       "    .dataframe tbody tr th:only-of-type {\n",
       "        vertical-align: middle;\n",
       "    }\n",
       "\n",
       "    .dataframe tbody tr th {\n",
       "        vertical-align: top;\n",
       "    }\n",
       "\n",
       "    .dataframe thead th {\n",
       "        text-align: right;\n",
       "    }\n",
       "</style>\n",
       "<table border=\"1\" class=\"dataframe\">\n",
       "  <thead>\n",
       "    <tr style=\"text-align: right;\">\n",
       "      <th></th>\n",
       "      <th>Unnamed: 0</th>\n",
       "      <th>image_names</th>\n",
       "      <th>descriptions</th>\n",
       "      <th>questions</th>\n",
       "      <th>answers</th>\n",
       "      <th>bounding_boxes</th>\n",
       "    </tr>\n",
       "  </thead>\n",
       "  <tbody>\n",
       "    <tr>\n",
       "      <th>0</th>\n",
       "      <td>0</td>\n",
       "      <td>map_2_inside_env_001806.png</td>\n",
       "      <td>There is a partial view of the room from a door</td>\n",
       "      <td>['What is present in the room?', 'Is there any...</td>\n",
       "      <td>['There is nothing present in the room,', 'The...</td>\n",
       "      <td>[{\"height\":422,\"label\":\"Door\",\"left\":251,\"top\"...</td>\n",
       "    </tr>\n",
       "    <tr>\n",
       "      <th>1</th>\n",
       "      <td>1</td>\n",
       "      <td>map_2_inside_env_001063.png</td>\n",
       "      <td>Room with furniture and a victim</td>\n",
       "      <td>['Is there a painting', 'Does the room have an...</td>\n",
       "      <td>['Yes there is a painting on the wall', 'Yes i...</td>\n",
       "      <td>[{\"height\":63,\"label\":\"Painting\",\"left\":396,\"t...</td>\n",
       "    </tr>\n",
       "    <tr>\n",
       "      <th>2</th>\n",
       "      <td>2</td>\n",
       "      <td>map_1_inside_env_004857.png</td>\n",
       "      <td>There is a corridor with a door and a few wind...</td>\n",
       "      <td>['Is the door open?', 'How many windows are th...</td>\n",
       "      <td>['Yes, the door is open.', 'There are four win...</td>\n",
       "      <td>[{\"height\":315,\"label\":\"Door\",\"left\":400,\"top\"...</td>\n",
       "    </tr>\n",
       "    <tr>\n",
       "      <th>3</th>\n",
       "      <td>3</td>\n",
       "      <td>map_2_inside_env_002306.png</td>\n",
       "      <td>A door in a corridor.</td>\n",
       "      <td>['Is there fire in the corridor?', 'Is the doo...</td>\n",
       "      <td>['No, there is no fire in the corridor.', 'Yes...</td>\n",
       "      <td>[{\"height\":142,\"label\":\"Door\",\"left\":213,\"top\"...</td>\n",
       "    </tr>\n",
       "    <tr>\n",
       "      <th>4</th>\n",
       "      <td>4</td>\n",
       "      <td>map_1_inside_env_002893.png</td>\n",
       "      <td>Room with a bookshelf and a yellow victim</td>\n",
       "      <td>['Is there a door', 'Can a lever be seen', 'Is...</td>\n",
       "      <td>['No door visible', 'No lever can be seen', 'N...</td>\n",
       "      <td>[{\"height\":274,\"label\":\"Bookshelf\",\"left\":0,\"t...</td>\n",
       "    </tr>\n",
       "  </tbody>\n",
       "</table>\n",
       "</div>"
      ],
      "text/plain": [
       "   Unnamed: 0                  image_names  \\\n",
       "0           0  map_2_inside_env_001806.png   \n",
       "1           1  map_2_inside_env_001063.png   \n",
       "2           2  map_1_inside_env_004857.png   \n",
       "3           3  map_2_inside_env_002306.png   \n",
       "4           4  map_1_inside_env_002893.png   \n",
       "\n",
       "                                        descriptions  \\\n",
       "0    There is a partial view of the room from a door   \n",
       "1                   Room with furniture and a victim   \n",
       "2  There is a corridor with a door and a few wind...   \n",
       "3                              A door in a corridor.   \n",
       "4          Room with a bookshelf and a yellow victim   \n",
       "\n",
       "                                           questions  \\\n",
       "0  ['What is present in the room?', 'Is there any...   \n",
       "1  ['Is there a painting', 'Does the room have an...   \n",
       "2  ['Is the door open?', 'How many windows are th...   \n",
       "3  ['Is there fire in the corridor?', 'Is the doo...   \n",
       "4  ['Is there a door', 'Can a lever be seen', 'Is...   \n",
       "\n",
       "                                             answers  \\\n",
       "0  ['There is nothing present in the room,', 'The...   \n",
       "1  ['Yes there is a painting on the wall', 'Yes i...   \n",
       "2  ['Yes, the door is open.', 'There are four win...   \n",
       "3  ['No, there is no fire in the corridor.', 'Yes...   \n",
       "4  ['No door visible', 'No lever can be seen', 'N...   \n",
       "\n",
       "                                      bounding_boxes  \n",
       "0  [{\"height\":422,\"label\":\"Door\",\"left\":251,\"top\"...  \n",
       "1  [{\"height\":63,\"label\":\"Painting\",\"left\":396,\"t...  \n",
       "2  [{\"height\":315,\"label\":\"Door\",\"left\":400,\"top\"...  \n",
       "3  [{\"height\":142,\"label\":\"Door\",\"left\":213,\"top\"...  \n",
       "4  [{\"height\":274,\"label\":\"Bookshelf\",\"left\":0,\"t...  "
      ]
     },
     "execution_count": 6,
     "metadata": {},
     "output_type": "execute_result"
    }
   ],
   "source": [
    "df.head()"
   ]
  },
  {
   "cell_type": "code",
   "execution_count": null,
   "metadata": {
    "collapsed": true
   },
   "outputs": [],
   "source": [
    "class Dataset(torch.utils.data.Dataset):\n",
    "    \n",
    "    def __init__(self, dataframe):\n",
    "        self.df = dataframe\n",
    "    \n",
    "    def __len__(self):\n",
    "        return len(self.df)\n",
    "    \n",
    "    def __getitem(self, idx)\n",
    "        row = self.idx"
   ]
  }
 ],
 "metadata": {
  "kernelspec": {
   "display_name": "Python [FNC]",
   "language": "python",
   "name": "Python [FNC]"
  },
  "language_info": {
   "codemirror_mode": {
    "name": "ipython",
    "version": 3
   },
   "file_extension": ".py",
   "mimetype": "text/x-python",
   "name": "python",
   "nbconvert_exporter": "python",
   "pygments_lexer": "ipython3",
   "version": "3.6.9"
  }
 },
 "nbformat": 4,
 "nbformat_minor": 2
}
